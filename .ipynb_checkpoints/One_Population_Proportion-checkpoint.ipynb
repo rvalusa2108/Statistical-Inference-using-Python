{
 "cells": [
  {
   "cell_type": "markdown",
   "metadata": {},
   "source": [
    "## One Population Proportion - Hypothesis Test\n",
    "One population proportion is a binomial test (a test having two possible outcomes success/failure) which is used to compare a proportion of responses or values in a sample of data to a hypothesized proportion in the population from which our sample data are drawn.\n"
   ]
  },
  {
   "cell_type": "markdown",
   "metadata": {},
   "source": [
    "### Research Question:\n",
    "In previous years __52% of parents__ believed that electronics and social media was the cause of their teenager’s lack of sleep. Do __more__ parents today believe that their teenager’s lack of sleep is caused due to electronics and social media?\n",
    "\n",
    "__Population:__ Parents with a teenager (age 13 - 18)  \n",
    "__Parameter of Interest:__ p (population proportion - parents who believe that there is a increased impact of electronics and social media on their teenage children)    \n",
    "  \n",
    "  \n",
    "__H<sub>o</sub>(Null Hypothesis):__ p = 0.52 (No difference, today as well 52% of parents believed that electronics and social media is the cause of their teenager’s lack of sleep )  \n",
    "__H<sub>a</sub>(Alternate Hypothesis):__ p > 0.52 (there is a difference - ie., increase in % of parents)  \n",
    "\n",
    "__n - Sample Size:__ 1018 parents  \n",
    "__Population sample responses of parents:__  \n",
    "56% of parents believe that their teenager's lack of sleep is caused due to electronics and social media"
   ]
  },
  {
   "cell_type": "code",
   "execution_count": 2,
   "metadata": {},
   "outputs": [
    {
     "data": {
      "text/plain": [
       "(2.5545334262132955, 0.005316510991822442)"
      ]
     },
     "execution_count": 2,
     "metadata": {},
     "output_type": "execute_result"
    }
   ],
   "source": [
    "import statsmodels.api as sm\n",
    "import numpy as np\n",
    "import pandas as pd\n",
    "import scipy.stats.distributions as dist\n",
    "\n",
    "n = 1018\n",
    "pnull = .52\n",
    "phat = .56\n",
    "sm.stats.proportions_ztest(phat * n, n, pnull, alternative='larger', prop_var=0.52)"
   ]
  }
 ],
 "metadata": {
  "kernelspec": {
   "display_name": "Python 3",
   "language": "python",
   "name": "python3"
  },
  "language_info": {
   "codemirror_mode": {
    "name": "ipython",
    "version": 3
   },
   "file_extension": ".py",
   "mimetype": "text/x-python",
   "name": "python",
   "nbconvert_exporter": "python",
   "pygments_lexer": "ipython3",
   "version": "3.8.2"
  }
 },
 "nbformat": 4,
 "nbformat_minor": 4
}

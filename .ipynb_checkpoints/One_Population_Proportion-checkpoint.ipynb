{
 "cells": [
  {
   "cell_type": "markdown",
   "metadata": {},
   "source": [
    "## One Population Proportion - Hypothesis Test\n",
    "One population proportion is a binomial test (a test having two possible outcomes success/failure) which is used to compare a proportion of responses or values in a sample of data to a hypothesized proportion in the population from which our sample data are drawn.\n"
   ]
  },
  {
   "cell_type": "markdown",
   "metadata": {},
   "source": [
    "### Research Question:\n",
    "In previous years __52% of parents__ believed that electronics and social media was the cause of their teenager’s lack of sleep. Do __more__ parents today believe that their teenager’s lack of sleep is caused due to electronics and social media?\n",
    "\n",
    "__Population :__ Parents with a teenager (age 13 - 18)  \n",
    "__Parameter of Interest :__ p (population proportion - parents who believe that there is a increased impact of electronics and social media on their teenage children)    \n",
    "  \n",
    "  \n",
    "__H<sub>o</sub>(Null Hypothesis) :__ p = 0.52 (No difference, today as well 52% of parents believed that electronics and social media is the cause of their teenager’s lack of sleep )  \n",
    "__H<sub>a</sub>(Alternate Hypothesis) :__ p > 0.52 (there is a difference - i.e., increase in % of parents)  \n",
    "\n",
    "__n - Sample Size :__ 1018 parents  \n",
    "__Population sample responses of parents :__  \n",
    "Out of 1018 parents, 56% of parents (1018*0.56 = 570.08 =~ 571 parents)  believe that their teenager's lack of sleep is caused due to electronics and social media"
   ]
  },
  {
   "cell_type": "code",
   "execution_count": 23,
   "metadata": {},
   "outputs": [
    {
     "name": "stdout",
     "output_type": "stream",
     "text": [
      "Help on function proportions_ztest in module statsmodels.stats.proportion:\n",
      "\n",
      "proportions_ztest(count, nobs, value=None, alternative='two-sided', prop_var=False)\n",
      "    Test for proportions based on normal (z) test\n",
      "    \n",
      "    Parameters\n",
      "    ----------\n",
      "    count : {int, array_like}\n",
      "        the number of successes in nobs trials. If this is array_like, then\n",
      "        the assumption is that this represents the number of successes for\n",
      "        each independent sample\n",
      "    nobs : {int, array_like}\n",
      "        the number of trials or observations, with the same length as\n",
      "        count.\n",
      "    value : float, array_like or None, optional\n",
      "        This is the value of the null hypothesis equal to the proportion in the\n",
      "        case of a one sample test. In the case of a two-sample test, the\n",
      "        null hypothesis is that prop[0] - prop[1] = value, where prop is the\n",
      "        proportion in the two samples. If not provided value = 0 and the null\n",
      "        is prop[0] = prop[1]\n",
      "    alternative : str in ['two-sided', 'smaller', 'larger']\n",
      "        The alternative hypothesis can be either two-sided or one of the one-\n",
      "        sided tests, smaller means that the alternative hypothesis is\n",
      "        ``prop < value`` and larger means ``prop > value``. In the two sample\n",
      "        test, smaller means that the alternative hypothesis is ``p1 < p2`` and\n",
      "        larger means ``p1 > p2`` where ``p1`` is the proportion of the first\n",
      "        sample and ``p2`` of the second one.\n",
      "    prop_var : False or float in (0, 1)\n",
      "        If prop_var is false, then the variance of the proportion estimate is\n",
      "        calculated based on the sample proportion. Alternatively, a proportion\n",
      "        can be specified to calculate this variance. Common use case is to\n",
      "        use the proportion under the Null hypothesis to specify the variance\n",
      "        of the proportion estimate.\n",
      "    \n",
      "    Returns\n",
      "    -------\n",
      "    zstat : float\n",
      "        test statistic for the z-test\n",
      "    p-value : float\n",
      "        p-value for the z-test\n",
      "    \n",
      "    Examples\n",
      "    --------\n",
      "    >>> count = 5\n",
      "    >>> nobs = 83\n",
      "    >>> value = .05\n",
      "    >>> stat, pval = proportions_ztest(count, nobs, value)\n",
      "    >>> print('{0:0.3f}'.format(pval))\n",
      "    0.695\n",
      "    \n",
      "    >>> import numpy as np\n",
      "    >>> from statsmodels.stats.proportion import proportions_ztest\n",
      "    >>> count = np.array([5, 12])\n",
      "    >>> nobs = np.array([83, 99])\n",
      "    >>> stat, pval = proportions_ztest(count, nobs)\n",
      "    >>> print('{0:0.3f}'.format(pval))\n",
      "    0.159\n",
      "    \n",
      "    Notes\n",
      "    -----\n",
      "    This uses a simple normal test for proportions. It should be the same as\n",
      "    running the mean z-test on the data encoded 1 for event and 0 for no event\n",
      "    so that the sum corresponds to the count.\n",
      "    \n",
      "    In the one and two sample cases with two-sided alternative, this test\n",
      "    produces the same p-value as ``proportions_chisquare``, since the\n",
      "    chisquare is the distribution of the square of a standard normal\n",
      "    distribution.\n",
      "\n"
     ]
    }
   ],
   "source": [
    "import statsmodels.api as sm\n",
    "import numpy as np\n",
    "import pandas as pd\n",
    "\n",
    "help(statsmodels.api.stats.proportions_ztest)"
   ]
  },
  {
   "cell_type": "code",
   "execution_count": 64,
   "metadata": {},
   "outputs": [
    {
     "name": "stdout",
     "output_type": "stream",
     "text": [
      "test statistic for the z-test : 2.555\n",
      "p-value for above z-test test statistic (one sided) : 0.005\n"
     ]
    }
   ],
   "source": [
    "n = 1018\n",
    "pnull = .52\n",
    "phat = .56\n",
    "\n",
    "(zstat, p_value) = sm.stats.proportions_ztest(\n",
    "                           count=phat*n, # number of successes in sample 56%*1018 = 571\n",
    "                           nobs=n, # number of sample observations = 1018 parents\n",
    "                           value=pnull, # This is the value of the null hypothesis = 0.52\n",
    "                           alternative='larger', # alternate hypothesis, larger means ``prop > value`` ==> p > 0.52\n",
    "                           prop_var=0.52)\n",
    "\n",
    "print(f\"\"\"test statistic for the z-test : {round(zstat, 3)}\n",
    "p-value for above z-test test statistic (one sided) : {round(p_value, 3)}\"\"\")"
   ]
  },
  {
   "cell_type": "markdown",
   "metadata": {},
   "source": [
    "### Conclusion:  \n",
    "\n",
    "As P-value is 0.005 (< 0.05, 5% significance value), we reject the Null Hypothesis as sufficient evident is available in favor of the initially stated Alternate Hypothesis - p > 0.52 (there is a difference - i.e., increase in % of parents)  \n",
    "\n"
   ]
  }
 ],
 "metadata": {
  "kernelspec": {
   "display_name": "Python 3",
   "language": "python",
   "name": "python3"
  },
  "language_info": {
   "codemirror_mode": {
    "name": "ipython",
    "version": 3
   },
   "file_extension": ".py",
   "mimetype": "text/x-python",
   "name": "python",
   "nbconvert_exporter": "python",
   "pygments_lexer": "ipython3",
   "version": "3.8.2"
  }
 },
 "nbformat": 4,
 "nbformat_minor": 4
}
